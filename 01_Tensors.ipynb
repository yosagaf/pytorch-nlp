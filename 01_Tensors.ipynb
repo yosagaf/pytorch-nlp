{
 "cells": [
  {
   "cell_type": "markdown",
   "metadata": {},
   "source": [
    "# Création de Tensors"
   ]
  },
  {
   "cell_type": "code",
   "execution_count": 1,
   "metadata": {},
   "outputs": [
    {
     "name": "stdout",
     "output_type": "stream",
     "text": [
      "Tensor 0D (Scalaire) : tensor(42)\n",
      "Tensor 1D (Vecteur) : tensor([1, 2, 3, 4, 5])\n",
      "Tensor 2D (Matrice) :\n",
      " tensor([[1, 2, 3],\n",
      "        [4, 5, 6],\n",
      "        [7, 8, 9]])\n",
      "Tensor 3D :\n",
      " tensor([[[ 1,  2],\n",
      "         [ 3,  4]],\n",
      "\n",
      "        [[ 5,  6],\n",
      "         [ 7,  8]],\n",
      "\n",
      "        [[ 9, 10],\n",
      "         [11, 12]]])\n"
     ]
    }
   ],
   "source": [
    "import torch\n",
    "\n",
    "# Tensor 0D (Scalaire)\n",
    "\n",
    "scalar = torch.tensor(42)\n",
    "print(\"Tensor 0D (Scalaire) :\", scalar)\n",
    "\n",
    "# Tensor 1D (Vecteur)\n",
    "vector = torch.tensor([1, 2, 3, 4, 5])\n",
    "print(\"Tensor 1D (Vecteur) :\", vector)\n",
    "\n",
    "# Tensor 2D (Matrice)\n",
    "matrix = torch.tensor([[1, 2, 3], [4, 5, 6], [7, 8, 9]])\n",
    "print(\"Tensor 2D (Matrice) :\\n\", matrix)\n",
    "\n",
    "# Tensor 3D\n",
    "tensor_3d = torch.tensor([[[1, 2], [3, 4]], [[5, 6], [7, 8]], [[9, 10], [11, 12]]])\n",
    "print(\"Tensor 3D :\\n\", tensor_3d)"
   ]
  },
  {
   "cell_type": "markdown",
   "metadata": {},
   "source": [
    "# Types de Données et Précision"
   ]
  },
  {
   "cell_type": "code",
   "execution_count": 2,
   "metadata": {},
   "outputs": [
    {
     "name": "stdout",
     "output_type": "stream",
     "text": [
      "Float Tensor (32-bit) : tensor([1., 2., 3.])\n",
      "Double Tensor (64-bit) : tensor([1., 2., 3.], dtype=torch.float64)\n",
      "Integer Tensor (32-bit) : tensor([1, 2, 3], dtype=torch.int32)\n"
     ]
    }
   ],
   "source": [
    "# Tensor avec type de données spécifié\n",
    "float_tensor = torch.tensor([1.0, 2.0, 3.0], dtype=torch.float32)\n",
    "print(\"Float Tensor (32-bit) :\", float_tensor)\n",
    "\n",
    "double_tensor = torch.tensor([1.0, 2.0, 3.0], dtype=torch.float64)\n",
    "print(\"Double Tensor (64-bit) :\", double_tensor)\n",
    "\n",
    "int_tensor = torch.tensor([1, 2, 3], dtype=torch.int32)\n",
    "print(\"Integer Tensor (32-bit) :\", int_tensor)"
   ]
  },
  {
   "cell_type": "markdown",
   "metadata": {},
   "source": [
    "# Tensors Spéciaux et Initialisation"
   ]
  },
  {
   "cell_type": "code",
   "execution_count": 5,
   "metadata": {},
   "outputs": [
    {
     "name": "stdout",
     "output_type": "stream",
     "text": [
      "Tensor de zéros :\n",
      " tensor([[0., 0., 0., 0.],\n",
      "        [0., 0., 0., 0.],\n",
      "        [0., 0., 0., 0.]])\n",
      "Tensor de uns :\n",
      " tensor([[1., 1., 1.],\n",
      "        [1., 1., 1.]])\n",
      "Tensor aléatoire uniforme :\n",
      " tensor([[0.6989, 0.7589],\n",
      "        [0.9436, 0.3885]])\n",
      "Tensor aléatoire normal :\n",
      " tensor([[-0.9084, -1.2987],\n",
      "        [-0.6018, -2.3066]])\n",
      "Tensor avec séquence : tensor([ 0,  1,  2,  3,  4,  5,  6,  7,  8,  9, 10, 11, 12, 13, 14, 15, 16, 17,\n",
      "        18, 19])\n"
     ]
    }
   ],
   "source": [
    "# Tensor de zéros\n",
    "zeros = torch.zeros(3, 4)\n",
    "print(\"Tensor de zéros :\\n\", zeros)\n",
    "\n",
    "# Tensor de uns\n",
    "ones = torch.ones(2, 3)\n",
    "print(\"Tensor de uns :\\n\", ones)\n",
    "\n",
    "# Tensor avec valeurs aléatoires uniformes entre 0 et 1\n",
    "random_uniform = torch.rand(2, 2)\n",
    "print(\"Tensor aléatoire uniforme :\\n\", random_uniform)\n",
    "\n",
    "# Tensor avec valeurs aléatoires suivant une distribution normale\n",
    "random_normal = torch.randn(2, 2)\n",
    "print(\"Tensor aléatoire normal :\\n\", random_normal)\n",
    "\n",
    "# Tensor avec une séquence de nombres\n",
    "arange = torch.arange(start=0, end=20)\n",
    "print(\"Tensor avec séquence :\", arange)"
   ]
  }
 ],
 "metadata": {
  "kernelspec": {
   "display_name": "pytorch-nlp-env",
   "language": "python",
   "name": "python3"
  },
  "language_info": {
   "codemirror_mode": {
    "name": "ipython",
    "version": 3
   },
   "file_extension": ".py",
   "mimetype": "text/x-python",
   "name": "python",
   "nbconvert_exporter": "python",
   "pygments_lexer": "ipython3",
   "version": "3.10.12"
  }
 },
 "nbformat": 4,
 "nbformat_minor": 2
}
